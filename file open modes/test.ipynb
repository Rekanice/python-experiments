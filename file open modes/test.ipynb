{
 "cells": [
  {
   "cell_type": "markdown",
   "metadata": {},
   "source": [
    "Useful links\n",
    "\n",
    "- Many perspectives to explain the different modes in opening a file: https://stackoverflow.com/questions/1466000/difference-between-modes-a-a-w-w-and-r-in-built-in-open-function\n"
   ]
  },
  {
   "cell_type": "code",
   "execution_count": 8,
   "metadata": {},
   "outputs": [],
   "source": [
    "def reset_text1txt():\n",
    "    with open(\"text1.txt\", \"w\") as f:\n",
    "        f.write(\"abc\\ndef\\nghi\\njkl\\nmno\")\n",
    "    # print(\"Reset text1.txt\")\n",
    "        \n",
    "reset_text1txt()"
   ]
  },
  {
   "cell_type": "markdown",
   "metadata": {},
   "source": [
    "cannot write in \"r\" mode"
   ]
  },
  {
   "cell_type": "code",
   "execution_count": 2,
   "metadata": {},
   "outputs": [
    {
     "name": "stdout",
     "output_type": "stream",
     "text": [
      "abc\n",
      "def\n",
      "ghi\n",
      "jkl\n",
      "mno\n",
      "pqr\n"
     ]
    },
    {
     "ename": "UnsupportedOperation",
     "evalue": "not writable",
     "output_type": "error",
     "traceback": [
      "\u001b[1;31m---------------------------------------------------------------------------\u001b[0m",
      "\u001b[1;31mUnsupportedOperation\u001b[0m                      Traceback (most recent call last)",
      "Cell \u001b[1;32mIn[2], line 5\u001b[0m\n\u001b[0;32m      2\u001b[0m data \u001b[38;5;241m=\u001b[39m f\u001b[38;5;241m.\u001b[39mread()\n\u001b[0;32m      3\u001b[0m \u001b[38;5;28mprint\u001b[39m(data)\n\u001b[1;32m----> 5\u001b[0m \u001b[43mf\u001b[49m\u001b[38;5;241;43m.\u001b[39;49m\u001b[43mwrite\u001b[49m\u001b[43m(\u001b[49m\u001b[38;5;124;43m\"\u001b[39;49m\u001b[38;5;124;43mpqr\u001b[39;49m\u001b[38;5;124;43m\"\u001b[39;49m\u001b[43m)\u001b[49m\n",
      "\u001b[1;31mUnsupportedOperation\u001b[0m: not writable"
     ]
    }
   ],
   "source": [
    "with open(\"text1.txt\", \"r\") as f:\n",
    "    data = f.read()\n",
    "    print(data)\n",
    "\n",
    "    f.write(\"pqr\")"
   ]
  },
  {
   "cell_type": "markdown",
   "metadata": {},
   "source": [
    "- opening the file \"r+\" mode can read & write into the file\n",
    "- calling read() for a 2nd time will give an empty string. \n",
    "    - Reason: the file pointer/cursor/stream has reached the end-of-file (EOF) after the first read(). So, the 2nd read() have no further content to read. \n",
    "    - https://stackoverflow.com/questions/3906137/why-cant-i-call-read-twice-on-an-open-file\n",
    "    - Concept: The file uses a file cursor/pointer to read its content. The cursor determines what it has read, and what to read next.\n",
    "    - Hence, the read() functions (read, readline, readlines) read as much content and position the file cursor at end of the read content for the next read to pick up. SO the next read function will resume at the last file cursor position. \n",
    "- we can still read the file, write into it, then read again to see the updated file content - all in the same `with` context.\n",
    "    1. using f.seek(0) : moves the file cursor to the beginning of the file\n",
    "    2. read the file in a new with open() context"
   ]
  },
  {
   "cell_type": "code",
   "execution_count": 3,
   "metadata": {},
   "outputs": [
    {
     "name": "stdout",
     "output_type": "stream",
     "text": [
      "1st open()\n",
      "---\n",
      "abc\n",
      "def\n",
      "ghi\n",
      "jkl\n",
      "mno\n",
      "1st read():  <class 'str'> len=19\n",
      "2nd read():  <class 'str'> len=0\n",
      "\n",
      "2nd open()\n",
      "---\n",
      "abc\n",
      "def\n",
      "ghi\n",
      "jkl\n",
      "mno\n",
      "pqr\n"
     ]
    }
   ],
   "source": [
    "reset_text1txt()\n",
    "\n",
    "with open(\"text1.txt\", \"r+\") as f:\n",
    "\n",
    "    print(\"1st open()\\n---\")\n",
    "    data = f.read()\n",
    "    print(data) # does not show the written \"pqr\"\n",
    "    print(\"1st read(): \", type(data), f\"len={len(data)}\")\n",
    "\n",
    "    f.write(\"\\npqr\")\n",
    "    \n",
    "    data = f.read()\n",
    "    print(\"2nd read(): \", type(data), f\"len={len(data)}\")\n",
    "    print(data)\n",
    "\n",
    "with open(\"text1.txt\", \"r+\") as f:\n",
    "\n",
    "    print(\"2nd open()\\n---\")\n",
    "    data = f.read()\n",
    "    print(data)"
   ]
  },
  {
   "cell_type": "code",
   "execution_count": 6,
   "metadata": {},
   "outputs": [
    {
     "name": "stdout",
     "output_type": "stream",
     "text": [
      "1st read():  <class 'str'> len=19\n",
      "abc\n",
      "def\n",
      "ghi\n",
      "jkl\n",
      "mno\n",
      "---\n",
      "2nd read():  <class 'str'> len=23\n",
      "abc\n",
      "def\n",
      "ghi\n",
      "jkl\n",
      "mno\n",
      "pqr\n"
     ]
    }
   ],
   "source": [
    "reset_text1txt()\n",
    "\n",
    "with open(\"text1.txt\", \"r+\") as f:\n",
    "\n",
    "    data = f.read()\n",
    "    print(\"1st read(): \", type(data), f\"len={len(data)}\")\n",
    "    print(data) # does not show the written \"pqr\"\n",
    "    \n",
    "    f.write(\"\\npqr\")\n",
    "    print(\"---\")\n",
    "\n",
    "    f.seek(0)\n",
    "    data = f.read()\n",
    "    print(\"2nd read(): \", type(data), f\"len={len(data)}\")\n",
    "    print(data)"
   ]
  },
  {
   "cell_type": "markdown",
   "metadata": {},
   "source": [
    "`readline()` moves the file cursor to the next line after reading. Hence, the next call of `readline()` reads the next line of content."
   ]
  },
  {
   "cell_type": "code",
   "execution_count": null,
   "metadata": {},
   "outputs": [
    {
     "name": "stdout",
     "output_type": "stream",
     "text": [
      "abc\n",
      "\n",
      "def\n",
      "\n",
      "ghi\n",
      "\n",
      "jkl\n",
      "\n",
      "mno\n"
     ]
    }
   ],
   "source": [
    "reset_text1txt()\n",
    "\n",
    "with open(\"text1.txt\", \"r+\") as f:\n",
    "    print(f.readline())\n",
    "    print(f.readline())\n",
    "    \n",
    "    # a neat trick to iterate over the lines of the file is to iterate over the opened file object\n",
    "    for line in f: \n",
    "        print(line)\n"
   ]
  },
  {
   "cell_type": "markdown",
   "metadata": {},
   "source": [
    "in \"r+\" mode, the cursor/stream is is positioned at the beginning of the file. \n",
    "- So, any written content will overwrite the content at the beginning of the file. Hence, the write() overwrites the first line in text1.txt\n",
    "- reading the file just after writing won't show the newly written content, just a blank line"
   ]
  },
  {
   "cell_type": "code",
   "execution_count": null,
   "metadata": {},
   "outputs": [
    {
     "name": "stdout",
     "output_type": "stream",
     "text": [
      "after write:  <class 'str'> len=12\n",
      "\n",
      "ghi\n",
      "jkl\n",
      "mno\n",
      "---\n",
      "next read\n",
      "---\n",
      "pqr\n",
      "stu\n",
      "ghi\n",
      "jkl\n",
      "mno\n"
     ]
    }
   ],
   "source": [
    "reset_text1txt()\n",
    "\n",
    "with open(\"text1.txt\", \"r+\") as f:\n",
    "        \n",
    "    f.write(\"pqr\\nstu\") # write a line, then read \n",
    "    data = f.read()\n",
    "    print(\"after write: \", type(data), f\"len={len(data)}\")\n",
    "    print(data)\n",
    "\n",
    "with open(\"text1.txt\", \"r+\") as f:\n",
    "    print(\"---\\nnext read\\n---\")\n",
    "    data = f.read()\n",
    "    print(data)"
   ]
  },
  {
   "cell_type": "markdown",
   "metadata": {},
   "source": [
    "opening file in \"w\" mode allows writing only. so cannot even read it"
   ]
  },
  {
   "cell_type": "code",
   "execution_count": null,
   "metadata": {},
   "outputs": [
    {
     "ename": "UnsupportedOperation",
     "evalue": "not readable",
     "output_type": "error",
     "traceback": [
      "\u001b[1;31m---------------------------------------------------------------------------\u001b[0m",
      "\u001b[1;31mUnsupportedOperation\u001b[0m                      Traceback (most recent call last)",
      "Cell \u001b[1;32mIn[34], line 4\u001b[0m\n\u001b[0;32m      1\u001b[0m reset_text1txt()\n\u001b[0;32m      3\u001b[0m \u001b[38;5;28;01mwith\u001b[39;00m \u001b[38;5;28mopen\u001b[39m(\u001b[38;5;124m\"\u001b[39m\u001b[38;5;124mtext1.txt\u001b[39m\u001b[38;5;124m\"\u001b[39m, \u001b[38;5;124m\"\u001b[39m\u001b[38;5;124mw\u001b[39m\u001b[38;5;124m\"\u001b[39m) \u001b[38;5;28;01mas\u001b[39;00m f:\n\u001b[1;32m----> 4\u001b[0m     data \u001b[38;5;241m=\u001b[39m \u001b[43mf\u001b[49m\u001b[38;5;241;43m.\u001b[39;49m\u001b[43mread\u001b[49m\u001b[43m(\u001b[49m\u001b[43m)\u001b[49m\n\u001b[0;32m      5\u001b[0m     \u001b[38;5;28mprint\u001b[39m(\u001b[38;5;124mf\u001b[39m\u001b[38;5;124m\"\u001b[39m\u001b[38;5;124mlen=\u001b[39m\u001b[38;5;132;01m{\u001b[39;00m\u001b[38;5;28mlen\u001b[39m(data)\u001b[38;5;132;01m}\u001b[39;00m\u001b[38;5;124m\"\u001b[39m)\n",
      "\u001b[1;31mUnsupportedOperation\u001b[0m: not readable"
     ]
    }
   ],
   "source": [
    "reset_text1txt()\n",
    "\n",
    "with open(\"text1.txt\", \"w\") as f:\n",
    "    data = f.read()\n",
    "    print(f\"len={len(data)}\")"
   ]
  },
  {
   "cell_type": "markdown",
   "metadata": {},
   "source": [
    "\"+\" in \"r+\" means writing. Weird that \"w\" doesn't mean that but it means truncating. \n",
    "\n",
    "Truncate means to overwrite from the beginning. During opening of the file, it is made empty (all content of the file is erased)\n",
    "\n",
    "\"+\" in \"w+\" allows the file to be read. But kinda useless, cos \"w\" mode will clear the file upon opening the file."
   ]
  },
  {
   "cell_type": "code",
   "execution_count": null,
   "metadata": {},
   "outputs": [
    {
     "name": "stdout",
     "output_type": "stream",
     "text": [
      "len=0\n"
     ]
    }
   ],
   "source": [
    "reset_text1txt()\n",
    "\n",
    "with open(\"text1.txt\", \"w+\") as f:\n",
    "    data = f.read()\n",
    "    print(f\"len={len(data)}\") # the file is now empty"
   ]
  },
  {
   "cell_type": "markdown",
   "metadata": {},
   "source": [
    "still cannot read the written content in the same with file opening context"
   ]
  },
  {
   "cell_type": "code",
   "execution_count": null,
   "metadata": {},
   "outputs": [
    {
     "name": "stdout",
     "output_type": "stream",
     "text": [
      "len=0\n"
     ]
    }
   ],
   "source": [
    "reset_text1txt()\n",
    "\n",
    "with open(\"text1.txt\", \"w+\") as f:\n",
    "    f.write(\"abc\")\n",
    "    data = f.read()\n",
    "    print(f\"len={len(data)}\")"
   ]
  },
  {
   "cell_type": "markdown",
   "metadata": {},
   "source": [
    "so far \"r+\" and \"w+\" the cursor is positioned at the beginning of the file. To write at the end of the file, need to use append mode \"a\"\n",
    "\n",
    "\"a\" is not readable and is append only, need \"a+\" to read."
   ]
  },
  {
   "cell_type": "code",
   "execution_count": null,
   "metadata": {},
   "outputs": [
    {
     "ename": "UnsupportedOperation",
     "evalue": "not readable",
     "output_type": "error",
     "traceback": [
      "\u001b[1;31m---------------------------------------------------------------------------\u001b[0m",
      "\u001b[1;31mUnsupportedOperation\u001b[0m                      Traceback (most recent call last)",
      "Cell \u001b[1;32mIn[36], line 4\u001b[0m\n\u001b[0;32m      1\u001b[0m reset_text1txt()\n\u001b[0;32m      3\u001b[0m \u001b[38;5;28;01mwith\u001b[39;00m \u001b[38;5;28mopen\u001b[39m(\u001b[38;5;124m\"\u001b[39m\u001b[38;5;124mtext1.txt\u001b[39m\u001b[38;5;124m\"\u001b[39m, \u001b[38;5;124m\"\u001b[39m\u001b[38;5;124ma\u001b[39m\u001b[38;5;124m\"\u001b[39m) \u001b[38;5;28;01mas\u001b[39;00m f:\n\u001b[1;32m----> 4\u001b[0m     data \u001b[38;5;241m=\u001b[39m \u001b[43mf\u001b[49m\u001b[38;5;241;43m.\u001b[39;49m\u001b[43mread\u001b[49m\u001b[43m(\u001b[49m\u001b[43m)\u001b[49m\n\u001b[0;32m      5\u001b[0m     \u001b[38;5;28mprint\u001b[39m(\u001b[38;5;124mf\u001b[39m\u001b[38;5;124m\"\u001b[39m\u001b[38;5;124mlen=\u001b[39m\u001b[38;5;132;01m{\u001b[39;00m\u001b[38;5;28mlen\u001b[39m(data)\u001b[38;5;132;01m}\u001b[39;00m\u001b[38;5;124m\"\u001b[39m)\n",
      "\u001b[1;31mUnsupportedOperation\u001b[0m: not readable"
     ]
    }
   ],
   "source": [
    "reset_text1txt()\n",
    "\n",
    "with open(\"text1.txt\", \"a\") as f:\n",
    "    data = f.read()\n",
    "    print(f\"len={len(data)}\")"
   ]
  },
  {
   "cell_type": "markdown",
   "metadata": {},
   "source": [
    "in \"a+\" mode, reading the file content will give an empty string bcos the file pointer in \"a+\" mode is at the end-of-file for appending.\n",
    "Hence, when u write a line, it is appended to the file's existing content.\n"
   ]
  },
  {
   "cell_type": "code",
   "execution_count": 6,
   "metadata": {},
   "outputs": [
    {
     "name": "stdout",
     "output_type": "stream",
     "text": [
      "len=0\n",
      "\n",
      "---\n",
      "len=23\n",
      "abc\n",
      "def\n",
      "ghi\n",
      "jkl\n",
      "mno\n",
      "pqr\n"
     ]
    }
   ],
   "source": [
    "reset_text1txt()\n",
    "\n",
    "with open(\"text1.txt\", \"a+\") as f:\n",
    "    data = f.read()\n",
    "    print(f\"len={len(data)}\")\n",
    "    print(data)\n",
    "\n",
    "    print(\"---\")\n",
    "    \n",
    "    f.write(\"\\npqr\")\n",
    "    f.seek(0) # bring file cursor to start of file to read full content.\n",
    "    data = f.read()\n",
    "    print(f\"len={len(data)}\")\n",
    "    print(data)"
   ]
  }
 ],
 "metadata": {
  "kernelspec": {
   "display_name": "base",
   "language": "python",
   "name": "python3"
  },
  "language_info": {
   "codemirror_mode": {
    "name": "ipython",
    "version": 3
   },
   "file_extension": ".py",
   "mimetype": "text/x-python",
   "name": "python",
   "nbconvert_exporter": "python",
   "pygments_lexer": "ipython3",
   "version": "3.10.10"
  }
 },
 "nbformat": 4,
 "nbformat_minor": 2
}
